{
 "cells": [
  {
   "cell_type": "code",
   "execution_count": 1,
   "metadata": {},
   "outputs": [],
   "source": [
    "import numpy as np\n",
    "import pandas as pd\n",
    "from numpy import genfromtxt\n",
    "from datetime import datetime\n",
    "from sklearn.neighbors import KNeighborsClassifier\n",
    "from sklearn import metrics\n",
    "import matplotlib.pyplot as plt\n",
    "data1 = np.array([[[0, 0], [0, 0], [0, 0], [0, 0], [0, 0], [0, 0], [0, 0], [0, 0], [0, 0], [0, 0]],\n",
    "       [[0, 0], [0, 50], [0, 0], [0, 0], [10, 0], [20, 0], [30, 0], [40, 0], [30, 0], [20, 0]],\n",
    "       [[10, 0], [0, 0], [0, 0], [0, 0], [0, 0], [0, 0], [0, 0], [0, 0], [0, 0], [0, 0]],\n",
    "       [[0, -50], [0, 0], [0, 0], [-10, 0], [-15, 0], [-25, 0], [-30, 0], [-50, 0], [-30, 0], [-10, 0]],\n",
    "       [[0, 0], [0, 0], [0, 0], [0, 0], [0, 0], [0, 0], [0, 0], [0, 0], [0, 0], [0, 0]],   \n",
    "       [[0, -50], [0, 0], [-15, 0], [-30, 0], [-50, 0], [-35, 0], [-20, 0], [-5, 0], [5, 0], [0, 0]],\n",
    "       [[0, 0], [0, 0], [0, 0], [0, 0], [0, 0], [0, 0], [0, 0], [0, 0], [0, 0], [0, 0]],   \n",
    "       [[0, 50], [0, 0], [5, 0], [15, 0], [20, 0], [30, 0], [45, 0], [60, 0], [40, 0], [20, 0]],\n",
    "       [[10, 0], [0, 0], [0, 0], [0, 0], [0, 0], [0, 0], [0, 0], [0, 0], [0, 0], [0, 0]],   \n",
    "       [[0, 0], [0, 0], [0, 0], [0, 50], [0, 0], [0, 0], [20, 0], [30, 0], [40, 0], [30, 0]],\n",
    "       [[15, 0], [5, 0], [0, 0], [0, 0], [0, 0], [0, 0], [0, 0], [0, 0], [0, 0], [0, 0]],   \n",
    "       [[0, 0], [0, 0], [0, 0], [0, 0], [0, 0], [0, 0], [0, 0], [0, 0], [0, 0], [0, 0]],   \n",
    "       [[0, 50], [0, 0], [0, 0], [10, 0], [25, 0], [40, 0], [55, 0], [75, 0], [50, 0], [25, 0]],\n",
    "       [[10, 0], [-5, 0], [0, 0], [0, 0], [0, 0], [0, 0], [0, 0], [0, 0], [0, 0], [0, 0]],\n",
    "       [[0, 0], [0, 0], [0, 0], [0, 0], [0, 0], [0, 0], [0, 0], [0, 0], [0, 0], [0, 0]],   \n",
    "       [[0, 0], [0, 0], [0, 0], [0, -50], [0, 0], [0, 0], [0, 0], [-20, 0], [-45, 0], [-65, 0]],\n",
    "       [[-30, 0], [-10, 0], [4, 0], [0, 0], [0, 0], [0, 0], [0, 0], [0, 0], [0, 0], [0, 0]]])\n",
    "\n",
    "data2 = np.array([[[0, 0], [0, 0], [0, 0], [0, 0], [0, 0], [0, 0], [0, 0], [0, 0], [0, 0], [0, 0]],\n",
    "       [[0, 0], [0, 0], [0, 0], [0, 0], [10, 0], [20, 0], [30, 0], [40, 0], [30, 0], [20, 0]],\n",
    "       [[10, 0], [0, 0], [0, 0], [0, 0], [0, 0], [0, 0], [0, 0], [0, 0], [0, 0], [0, 0]],\n",
    "       [[0, 0], [0, 0], [0, 0], [-10, 0], [-15, 0], [-25, 0], [-30, 0], [-50, 0], [-30, 0], [-10, 0]],\n",
    "       [[0, 0], [0, 0], [0, 0], [0, 0], [0, 0], [0, 0], [0, 0], [0, 0], [0, 0], [0, 0]],   \n",
    "       [[0, 0], [0, 0], [-15, 0], [-30, 0], [-50, 0], [-35, 0], [-20, 0], [-5, 0], [5, 0], [0, 0]],\n",
    "       [[0, 0], [0, 0], [0, 0], [0, 0], [0, 0], [0, 0], [0, 0], [0, 0], [0, 0], [0, 0]],   \n",
    "       [[0, 0], [0, 0], [5, 0], [15, 0], [20, 0], [30, 0], [45, 0], [60, 0], [40, 0], [20, 0]],\n",
    "       [[10, 0], [0, 0], [0, 0], [0, 0], [0, 0], [0, 0], [0, 0], [0, 0], [0, 0], [0, 0]],   \n",
    "       [[0, 0], [0, 0], [0, 0], [0, 0], [0, 0], [0, 0], [20, 0], [30, 0], [40, 0], [30, 0]],\n",
    "       [[15, 0], [5, 0], [0, 0], [0, 0], [0, 0], [0, 0], [0, 0], [0, 0], [0, 0], [0, 0]],   \n",
    "       [[0, 0], [0, 0], [0, 0], [0, 0], [0, 0], [0, 0], [0, 0], [0, 0], [0, 0], [0, 0]],   \n",
    "       [[0, 0], [0, 0], [0, 0], [10, 0], [25, 0], [40, 0], [55, 0], [75, 0], [50, 0], [25, 0]],\n",
    "       [[10, 0], [-5, 0], [0, 0], [0, 0], [0, 0], [0, 0], [0, 0], [0, 0], [0, 0], [0, 0]],\n",
    "       [[0, 0], [0, 0], [0, 0], [0, 0], [0, 0], [0, 0], [0, 0], [0, 0], [0, 0], [0, 0]],   \n",
    "       [[0, 0], [0, 0], [0, 0], [0, 0], [0, 0], [0, 0], [0, 0], [-20, 0], [-45, 0], [-65, 0]],\n",
    "       [[-30, 0], [-10, 0], [4, 0], [0, 0], [0, 0], [0, 0], [0, 0], [0, 0], [0, 0], [0, 0]]])\n",
    "\n",
    "data3 = np.array([[[0, 0], [0, 0], [0, 0], [0, 0], [0, 0], [0, 0], [0, 0], [0, 0], [0, 0], [0, 0]],\n",
    "       [[0, 0], [0, -50], [0, 0], [0, 0], [10, 0], [20, 0], [30, 0], [40, 0], [30, 0], [20, 0]],\n",
    "       [[10, 0], [0, 0], [0, 0], [0, 0], [0, 0], [0, 0], [0, 0], [0, 0], [0, 0], [0, 0]],\n",
    "       [[0, 50], [0, 0], [0, 0], [-10, 0], [-15, 0], [-25, 0], [-30, 0], [-50, 0], [-30, 0], [-10, 0]],\n",
    "       [[0, 0], [0, 0], [0, 0], [0, 0], [0, 0], [0, 0], [0, 0], [0, 0], [0, 0], [0, 0]],   \n",
    "       [[0, 50], [0, 0], [-15, 0], [-30, 0], [-50, 0], [-35, 0], [-20, 0], [-5, 0], [5, 0], [0, 0]],\n",
    "       [[0, 0], [0, 0], [0, 0], [0, 0], [0, 0], [0, 0], [0, 0], [0, 0], [0, 0], [0, 0]],   \n",
    "       [[0, -50], [0, 0], [5, 0], [15, 0], [20, 0], [30, 0], [45, 0], [60, 0], [40, 0], [20, 0]],\n",
    "       [[10, 0], [0, 0], [0, 0], [0, 0], [0, 0], [0, 0], [0, 0], [0, 0], [0, 0], [0, 0]],   \n",
    "       [[0, 0], [0, 0], [0, 0], [0, -50], [0, 0], [0, 0], [20, 0], [30, 0], [40, 0], [30, 0]],\n",
    "       [[15, 0], [5, 0], [0, 0], [0, 0], [0, 0], [0, 0], [0, 0], [0, 0], [0, 0], [0, 0]],   \n",
    "       [[0, 0], [0, 0], [0, 0], [0, 0], [0, 0], [0, 0], [0, 0], [0, 0], [0, 0], [0, 0]],   \n",
    "       [[0, -50], [0, 0], [0, 0], [10, 0], [25, 0], [40, 0], [55, 0], [75, 0], [50, 0], [25, 0]],\n",
    "       [[10, 0], [-5, 0], [0, 0], [0, 0], [0, 0], [0, 0], [0, 0], [0, 0], [0, 0], [0, 0]],\n",
    "       [[0, 0], [0, 0], [0, 0], [0, 0], [0, 0], [0, 0], [0, 0], [0, 0], [0, 0], [0, 0]],   \n",
    "       [[0, 0], [0, 0], [0, 0], [0, 50], [0, 0], [0, 0], [0, 0], [-20, 0], [-45, 0], [-65, 0]],\n",
    "       [[-30, 0], [-10, 0], [4, 0], [0, 0], [0, 0], [0, 0], [0, 0], [0, 0], [0, 0], [0, 0]]])"
   ]
  },
  {
   "cell_type": "code",
   "execution_count": 2,
   "metadata": {},
   "outputs": [],
   "source": [
    "steerInd = genfromtxt('withIndicator.txt', delimiter='\\n')\n",
    "steerIndTime = genfromtxt('withIndicatorTime.txt', delimiter='\\n')\n",
    "steerNoInd = genfromtxt('withoutIndicator.txt', delimiter='\\n')\n",
    "NoInd = np.zeros(1000)\n",
    "rInd = genfromtxt('RightInd.txt', delimiter='\\n')\n",
    "lInd = genfromtxt('LeftInd.txt', delimiter='\\n')"
   ]
  },
  {
   "cell_type": "code",
   "execution_count": 3,
   "metadata": {},
   "outputs": [],
   "source": [
    "time = []\n",
    "for i in range(len(steerInd)):\n",
    "    time.append(datetime.fromtimestamp(1485714600+steerIndTime[i]).strftime('%Y-%m-%d %H:%M:%S.%f')[:-3])\n",
    "strInd = np.vstack((time, steerInd)).T\n",
    "seris = pd.Series(strInd.tolist())\n",
    "series = []\n",
    "steer = []\n",
    "i = 0\n",
    "j = 0\n",
    "end = 0\n",
    "myFreq = 1/30\n",
    "while(end==0):\n",
    "    start = float((strInd[i][0])[-6:])\n",
    "    avg = float(strInd[j][1])\n",
    "    div = 2\n",
    "    while(True):\n",
    "        if (j==len(time)-1):\n",
    "            end=1\n",
    "            break\n",
    "        if (float((strInd[j][0])[-6:]) > (start + myFreq)):\n",
    "            break\n",
    "        avg = (avg + float(strInd[j+1][1]))/div\n",
    "        j = j+1\n",
    "        div = div+1\n",
    "    series.append(strInd[i][0])\n",
    "    steer.append(avg)\n",
    "    i = i+1"
   ]
  },
  {
   "cell_type": "code",
   "execution_count": 4,
   "metadata": {},
   "outputs": [],
   "source": [
    "final = np.vstack((series, steer)).T"
   ]
  },
  {
   "cell_type": "code",
   "execution_count": 5,
   "metadata": {},
   "outputs": [
    {
     "ename": "ValueError",
     "evalue": "unconverted data remains: .833",
     "output_type": "error",
     "traceback": [
      "\u001b[1;31m---------------------------------------------------------------------------\u001b[0m",
      "\u001b[1;31mValueError\u001b[0m                                Traceback (most recent call last)",
      "\u001b[1;32m<ipython-input-5-0f4db7cd1192>\u001b[0m in \u001b[0;36m<module>\u001b[1;34m()\u001b[0m\n\u001b[0;32m      1\u001b[0m \u001b[1;32mfor\u001b[0m \u001b[0mi\u001b[0m \u001b[1;32min\u001b[0m \u001b[0mrange\u001b[0m\u001b[1;33m(\u001b[0m\u001b[0mlen\u001b[0m\u001b[1;33m(\u001b[0m\u001b[0mseris\u001b[0m\u001b[1;33m)\u001b[0m\u001b[1;33m)\u001b[0m\u001b[1;33m:\u001b[0m\u001b[1;33m\u001b[0m\u001b[0m\n\u001b[1;32m----> 2\u001b[1;33m     \u001b[0mseris\u001b[0m\u001b[1;33m[\u001b[0m\u001b[0mi\u001b[0m\u001b[1;33m]\u001b[0m\u001b[1;33m[\u001b[0m\u001b[1;36m0\u001b[0m\u001b[1;33m]\u001b[0m \u001b[1;33m=\u001b[0m \u001b[0mdatetime\u001b[0m\u001b[1;33m.\u001b[0m\u001b[0mstrptime\u001b[0m\u001b[1;33m(\u001b[0m\u001b[0mseris\u001b[0m\u001b[1;33m[\u001b[0m\u001b[0mi\u001b[0m\u001b[1;33m]\u001b[0m\u001b[1;33m[\u001b[0m\u001b[1;36m0\u001b[0m\u001b[1;33m]\u001b[0m\u001b[1;33m,\u001b[0m\u001b[1;34m'%Y-%m-%d %H:%M:%S'\u001b[0m\u001b[1;33m)\u001b[0m\u001b[1;31m#.%f')[:-3]\u001b[0m\u001b[1;33m\u001b[0m\u001b[0m\n\u001b[0m",
      "\u001b[1;32mE:\\Softwares\\Programming\\Anaconda\\lib\\_strptime.py\u001b[0m in \u001b[0;36m_strptime_datetime\u001b[1;34m(cls, data_string, format)\u001b[0m\n\u001b[0;32m    563\u001b[0m     \"\"\"Return a class cls instance based on the input string and the\n\u001b[0;32m    564\u001b[0m     format string.\"\"\"\n\u001b[1;32m--> 565\u001b[1;33m     \u001b[0mtt\u001b[0m\u001b[1;33m,\u001b[0m \u001b[0mfraction\u001b[0m \u001b[1;33m=\u001b[0m \u001b[0m_strptime\u001b[0m\u001b[1;33m(\u001b[0m\u001b[0mdata_string\u001b[0m\u001b[1;33m,\u001b[0m \u001b[0mformat\u001b[0m\u001b[1;33m)\u001b[0m\u001b[1;33m\u001b[0m\u001b[0m\n\u001b[0m\u001b[0;32m    566\u001b[0m     \u001b[0mtzname\u001b[0m\u001b[1;33m,\u001b[0m \u001b[0mgmtoff\u001b[0m \u001b[1;33m=\u001b[0m \u001b[0mtt\u001b[0m\u001b[1;33m[\u001b[0m\u001b[1;33m-\u001b[0m\u001b[1;36m2\u001b[0m\u001b[1;33m:\u001b[0m\u001b[1;33m]\u001b[0m\u001b[1;33m\u001b[0m\u001b[0m\n\u001b[0;32m    567\u001b[0m     \u001b[0margs\u001b[0m \u001b[1;33m=\u001b[0m \u001b[0mtt\u001b[0m\u001b[1;33m[\u001b[0m\u001b[1;33m:\u001b[0m\u001b[1;36m6\u001b[0m\u001b[1;33m]\u001b[0m \u001b[1;33m+\u001b[0m \u001b[1;33m(\u001b[0m\u001b[0mfraction\u001b[0m\u001b[1;33m,\u001b[0m\u001b[1;33m)\u001b[0m\u001b[1;33m\u001b[0m\u001b[0m\n",
      "\u001b[1;32mE:\\Softwares\\Programming\\Anaconda\\lib\\_strptime.py\u001b[0m in \u001b[0;36m_strptime\u001b[1;34m(data_string, format)\u001b[0m\n\u001b[0;32m    363\u001b[0m     \u001b[1;32mif\u001b[0m \u001b[0mlen\u001b[0m\u001b[1;33m(\u001b[0m\u001b[0mdata_string\u001b[0m\u001b[1;33m)\u001b[0m \u001b[1;33m!=\u001b[0m \u001b[0mfound\u001b[0m\u001b[1;33m.\u001b[0m\u001b[0mend\u001b[0m\u001b[1;33m(\u001b[0m\u001b[1;33m)\u001b[0m\u001b[1;33m:\u001b[0m\u001b[1;33m\u001b[0m\u001b[0m\n\u001b[0;32m    364\u001b[0m         raise ValueError(\"unconverted data remains: %s\" %\n\u001b[1;32m--> 365\u001b[1;33m                           data_string[found.end():])\n\u001b[0m\u001b[0;32m    366\u001b[0m \u001b[1;33m\u001b[0m\u001b[0m\n\u001b[0;32m    367\u001b[0m     \u001b[0miso_year\u001b[0m \u001b[1;33m=\u001b[0m \u001b[0myear\u001b[0m \u001b[1;33m=\u001b[0m \u001b[1;32mNone\u001b[0m\u001b[1;33m\u001b[0m\u001b[0m\n",
      "\u001b[1;31mValueError\u001b[0m: unconverted data remains: .833"
     ]
    }
   ],
   "source": [
    "for i in range(len(seris)):\n",
    "    seris[i][0] = datetime.strptime(seris[i][0],'%Y-%m-%d %H:%M:%S')#.%f')[:-3]"
   ]
  },
  {
   "cell_type": "code",
   "execution_count": 6,
   "metadata": {},
   "outputs": [],
   "source": [
    "\n",
    "knn = KNeighborsClassifier(n_neighbors=1)"
   ]
  },
  {
   "cell_type": "code",
   "execution_count": 27,
   "metadata": {},
   "outputs": [],
   "source": [
    "data = np.concatenate([data1, data2, data3])\n",
    "target = [1, 1, 1, 1, 1, 1, 1, 1, 1, 1, 1, 1, 1, 1, 1, 1, 1,\n",
    "          1, 2, 1, 2, 1, 2, 1, 2, 1, 2, 1, 1, 2, 1, 2, 2, 1,\n",
    "          1, 3, 1, 3, 1, 3, 1, 3, 1, 3, 1, 1, 3, 3, 1, 3, 1]"
   ]
  },
  {
   "cell_type": "code",
   "execution_count": 23,
   "metadata": {},
   "outputs": [],
   "source": [
    "nsamples, nx, ny = data.shape\n",
    "train_dataset = data.reshape((nsamples,nx*ny))\n",
    "test_data = train_dataset"
   ]
  },
  {
   "cell_type": "code",
   "execution_count": 24,
   "metadata": {},
   "outputs": [
    {
     "data": {
      "text/plain": [
       "KNeighborsClassifier(algorithm='auto', leaf_size=30, metric='minkowski',\n",
       "           metric_params=None, n_jobs=1, n_neighbors=1, p=2,\n",
       "           weights='uniform')"
      ]
     },
     "execution_count": 24,
     "metadata": {},
     "output_type": "execute_result"
    }
   ],
   "source": [
    "knn.fit(train_dataset, target)"
   ]
  },
  {
   "cell_type": "code",
   "execution_count": 25,
   "metadata": {},
   "outputs": [
    {
     "name": "stdout",
     "output_type": "stream",
     "text": [
      "Actual Classes: \n",
      " [1, 1, 1, 1, 1, 1, 1, 1, 1, 1, 1, 1, 1, 1, 1, 1, 1, 1, 2, 1, 2, 1, 2, 1, 2, 1, 2, 1, 1, 2, 1, 2, 2, 1, 1, 3, 1, 3, 1, 3, 1, 3, 1, 3, 1, 1, 3, 3, 1, 3, 1]\n",
      "\n",
      "Predicted Classes: \n",
      " [1 1 1 1 1 1 1 1 1 1 1 1 1 1 1 1 1 1 2 1 2 1 2 1 2 1 2 1 1 2 1 1 2 1 1 3 1\n",
      " 3 1 3 1 3 1 3 1 1 3 1 1 3 1]\n",
      "\n",
      "Accuracy: \u001b[1m 0.9607843137254902\n"
     ]
    }
   ],
   "source": [
    "y_pred = knn.predict(test_data)\n",
    "print('Actual Classes: \\n', target)\n",
    "print('\\nPredicted Classes: \\n', y_pred)\n",
    "print('\\nAccuracy: ' + '\\033[1m', metrics.accuracy_score(target,y_pred))"
   ]
  },
  {
   "cell_type": "code",
   "execution_count": 241,
   "metadata": {},
   "outputs": [],
   "source": []
  },
  {
   "cell_type": "code",
   "execution_count": null,
   "metadata": {},
   "outputs": [],
   "source": []
  },
  {
   "cell_type": "code",
   "execution_count": 143,
   "metadata": {},
   "outputs": [
    {
     "data": {
      "text/plain": [
       "array([[  0,   0,   0, ...,   0,   0,   0],\n",
       "       [  0,   0,   0, ...,  20,   0,   0],\n",
       "       [ 10,   0,   0, ...,   0,   0,   0],\n",
       "       ...,\n",
       "       [  0,   0,   0, ...,   0,   0,   0],\n",
       "       [  0,   0,   0, ..., -65,   0,   0],\n",
       "       [-30,   0,   0, ...,   0,   0,   0]])"
      ]
     },
     "execution_count": 143,
     "metadata": {},
     "output_type": "execute_result"
    }
   ],
   "source": [
    "train_dataset"
   ]
  },
  {
   "cell_type": "code",
   "execution_count": null,
   "metadata": {},
   "outputs": [],
   "source": []
  }
 ],
 "metadata": {
  "kernelspec": {
   "display_name": "Python 3",
   "language": "python",
   "name": "python3"
  },
  "language_info": {
   "codemirror_mode": {
    "name": "ipython",
    "version": 3
   },
   "file_extension": ".py",
   "mimetype": "text/x-python",
   "name": "python",
   "nbconvert_exporter": "python",
   "pygments_lexer": "ipython3",
   "version": "3.6.5"
  }
 },
 "nbformat": 4,
 "nbformat_minor": 2
}
