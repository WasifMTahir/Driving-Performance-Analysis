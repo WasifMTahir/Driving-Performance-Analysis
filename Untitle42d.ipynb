{
 "cells": [
  {
   "cell_type": "code",
   "execution_count": 4,
   "metadata": {},
   "outputs": [
    {
     "name": "stderr",
     "output_type": "stream",
     "text": [
      "E:\\Softwares\\Programming\\Anaconda\\lib\\site-packages\\h5py\\__init__.py:36: FutureWarning: Conversion of the second argument of issubdtype from `float` to `np.floating` is deprecated. In future, it will be treated as `np.float64 == np.dtype(float).type`.\n",
      "  from ._conv import register_converters as _register_converters\n"
     ]
    },
    {
     "name": "stdout",
     "output_type": "stream",
     "text": [
      "UN_D_cam1_ptr\n",
      "UN_D_cam2_ptr\n",
      "UN_D_camphone_ptr\n",
      "UN_D_lidar_ptr\n",
      "UN_D_radar_msg\n",
      "UN_D_rawgps\n",
      "UN_T_cam1_ptr\n",
      "UN_T_cam2_ptr\n",
      "UN_T_camphone_ptr\n",
      "UN_T_lidar_ptr\n",
      "UN_T_radar_msg\n",
      "UN_T_rawgps\n",
      "blinker\n",
      "brake\n",
      "brake_computer\n",
      "brake_user\n",
      "cam1_ptr\n",
      "cam2_ptr\n",
      "camphone_ptr\n",
      "car_accel\n",
      "fiber_accel\n",
      "fiber_compass\n",
      "fiber_compass_x\n",
      "fiber_compass_y\n",
      "fiber_compass_z\n",
      "fiber_gyro\n",
      "fiber_temperature\n",
      "gas\n",
      "gear_choice\n",
      "gps_1_fix\n",
      "gps_1_pos\n",
      "gps_1_vel\n",
      "gps_2_fix\n",
      "gps_2_pos\n",
      "gps_2_vel\n",
      "idx\n",
      "imu_accel\n",
      "imu_compass\n",
      "imu_gyro\n",
      "rpm\n",
      "rpm_post_torque\n",
      "selfdrive\n",
      "speed\n",
      "speed_abs\n",
      "speed_fl\n",
      "speed_fr\n",
      "speed_rl\n",
      "speed_rr\n",
      "standstill\n",
      "steering_angle\n",
      "steering_torque\n",
      "times\n",
      "velodyne_gps\n",
      "velodyne_heading\n",
      "velodyne_imu\n"
     ]
    }
   ],
   "source": [
    "import pandas as pd\n",
    "import h5py\n",
    "data = h5py.File('log.h5', 'r')\n",
    "for key in data.keys():\n",
    "    print(key)"
   ]
  },
  {
   "cell_type": "code",
   "execution_count": 7,
   "metadata": {},
   "outputs": [],
   "source": [
    "group = data['times']\n",
    "mset = set(group)"
   ]
  },
  {
   "cell_type": "code",
   "execution_count": 8,
   "metadata": {},
   "outputs": [
    {
     "name": "stdout",
     "output_type": "stream",
     "text": [
      "Min: 0.0\n",
      "Max: 987.1800000000001\n"
     ]
    }
   ],
   "source": [
    "print('Min:', min(mset))\n",
    "print('Max:', max(mset))"
   ]
  },
  {
   "cell_type": "code",
   "execution_count": null,
   "metadata": {},
   "outputs": [],
   "source": []
  }
 ],
 "metadata": {
  "kernelspec": {
   "display_name": "Python 3",
   "language": "python",
   "name": "python3"
  },
  "language_info": {
   "codemirror_mode": {
    "name": "ipython",
    "version": 3
   },
   "file_extension": ".py",
   "mimetype": "text/x-python",
   "name": "python",
   "nbconvert_exporter": "python",
   "pygments_lexer": "ipython3",
   "version": "3.6.5"
  }
 },
 "nbformat": 4,
 "nbformat_minor": 2
}
