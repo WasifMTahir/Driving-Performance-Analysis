{
 "cells": [
  {
   "cell_type": "code",
   "execution_count": 2,
   "metadata": {},
   "outputs": [
    {
     "ename": "ModuleNotFoundError",
     "evalue": "No module named 'cv2'",
     "output_type": "error",
     "traceback": [
      "\u001b[1;31m---------------------------------------------------------------------------\u001b[0m",
      "\u001b[1;31mModuleNotFoundError\u001b[0m                       Traceback (most recent call last)",
      "\u001b[1;32m<ipython-input-2-5c458acaa261>\u001b[0m in \u001b[0;36m<module>\u001b[1;34m()\u001b[0m\n\u001b[0;32m      5\u001b[0m \u001b[1;32mimport\u001b[0m \u001b[0margparse\u001b[0m\u001b[1;33m\u001b[0m\u001b[0m\n\u001b[0;32m      6\u001b[0m \u001b[1;33m\u001b[0m\u001b[0m\n\u001b[1;32m----> 7\u001b[1;33m \u001b[1;32mimport\u001b[0m \u001b[0mcv2\u001b[0m\u001b[1;33m\u001b[0m\u001b[0m\n\u001b[0m\u001b[0;32m      8\u001b[0m \u001b[1;33m\u001b[0m\u001b[0m\n\u001b[0;32m      9\u001b[0m \u001b[1;32mdef\u001b[0m \u001b[0mextractImages\u001b[0m\u001b[1;33m(\u001b[0m\u001b[0mpathIn\u001b[0m\u001b[1;33m,\u001b[0m \u001b[0mpathOut\u001b[0m\u001b[1;33m)\u001b[0m\u001b[1;33m:\u001b[0m\u001b[1;33m\u001b[0m\u001b[0m\n",
      "\u001b[1;31mModuleNotFoundError\u001b[0m: No module named 'cv2'"
     ]
    }
   ],
   "source": [
    "# try entire work\n",
    "\n",
    "\n",
    "import sys\n",
    "import argparse\n",
    "\n",
    "import cv2\n",
    "\n",
    "def extractImages(pathIn, pathOut):\n",
    "    vidcap = cv2.VideoCapture(pathIn)\n",
    "    success,image = vidcap.read()\n",
    "    count = 0\n",
    "    success = True\n",
    "    while success:\n",
    "      success,image = vidcap.read()\n",
    "      #print ('filename:  ', count)\n",
    "      cv2.imwrite(pathOut+\"/%d.jpg\" % count, image)     # save frame as JPEG file\n",
    "      count += 1\n",
    "\n",
    "\n",
    "\n",
    "for root, dirs, files in sorted(os.walk('E:\\Summer 18\\Berkeley')):\n",
    "    for newname in files:\n",
    "        filename = os.path.join(newname)\n",
    "        filename = filename[:-4]\n",
    "        print(filename)\n",
    "        \n",
    "        if not os.path.exists(filename):\n",
    "            os.makedirs(filename)\n",
    "        pathIn = 'E:\\Summer 18\\Berkeley/'+str(filename)+'.mov'\n",
    "        pathOut = 'E:\\Summer 18\\Berkeley\\Processed Videos'+str(filename)+'/'\n",
    "        #print(\"aba\")\n",
    "        if __name__==\"__main__\":\n",
    "            extractImages(pathIn,pathOut)"
   ]
  },
  {
   "cell_type": "code",
   "execution_count": null,
   "metadata": {},
   "outputs": [],
   "source": []
  }
 ],
 "metadata": {
  "kernelspec": {
   "display_name": "Python 3",
   "language": "python",
   "name": "python3"
  },
  "language_info": {
   "codemirror_mode": {
    "name": "ipython",
    "version": 3
   },
   "file_extension": ".py",
   "mimetype": "text/x-python",
   "name": "python",
   "nbconvert_exporter": "python",
   "pygments_lexer": "ipython3",
   "version": "3.6.5"
  }
 },
 "nbformat": 4,
 "nbformat_minor": 2
}
